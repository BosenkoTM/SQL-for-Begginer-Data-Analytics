{
 "cells": [
  {
   "cell_type": "code",
   "execution_count": null,
   "id": "6c6b0a70",
   "metadata": {},
   "outputs": [],
   "source": [
    "conda install psycopg2"
   ]
  },
  {
   "cell_type": "code",
   "execution_count": null,
   "id": "b35d1a33",
   "metadata": {
    "scrolled": true
   },
   "outputs": [],
   "source": [
    "import psycopg2\n",
    "with psycopg2.connect(host=\"\", user=\"\", password=\"\", dbname=\"sqlda2\", port=5432) as conn:\n",
    "    with conn.cursor() as cur:\n",
    "        cur.execute(\"SELECT * FROM customers LIMIT 5\")\n",
    "        records = cur.fetchall()\n",
    "records"
   ]
  },
  {
   "cell_type": "code",
   "execution_count": 7,
   "id": "60d90f7d",
   "metadata": {},
   "outputs": [],
   "source": [
    "from sqlalchemy import create_engine \n",
    "import pandas as pd"
   ]
  },
  {
   "cell_type": "code",
   "execution_count": 8,
   "id": "55f54a99",
   "metadata": {},
   "outputs": [],
   "source": [
    "%matplotlib inline"
   ]
  },
  {
   "cell_type": "code",
   "execution_count": null,
   "id": "7e6a92b7",
   "metadata": {},
   "outputs": [],
   "source": [
    "cnxn_string = (\"postgresql+psycopg2://{username}:{pswd}\" \n",
    "               \"@{host}:{port}/{database}\") \n",
    "print(cnxn_string)"
   ]
  },
  {
   "cell_type": "code",
   "execution_count": 10,
   "id": "f1d85b76",
   "metadata": {},
   "outputs": [],
   "source": [
    "engine = create_engine(cnxn_string.format( \n",
    "    username=\"\", \n",
    "    pswd=\"\", \n",
    "    host=\"\",\n",
    "    port=5432, \n",
    "    database=\"sqlda2\"))"
   ]
  },
  {
   "cell_type": "code",
   "execution_count": null,
   "id": "617862b9",
   "metadata": {},
   "outputs": [],
   "source": [
    "engine.execute(\"SELECT * FROM customers LIMIT 2;\").fetchall() "
   ]
  },
  {
   "cell_type": "code",
   "execution_count": 12,
   "id": "b5cd05e7",
   "metadata": {},
   "outputs": [],
   "source": [
    "customers_data = pd.read_sql_table('customers', engine)"
   ]
  },
  {
   "cell_type": "code",
   "execution_count": 13,
   "id": "0de48f52",
   "metadata": {},
   "outputs": [],
   "source": [
    "query = \"\"\"\n",
    "    SELECT city,\n",
    "           COUNT(1) AS number_of_customers, \n",
    "           COUNT(NULLIF(gender, 'M')) AS female, \n",
    "           COUNT(NULLIF(gender, 'F')) AS male \n",
    "    FROM customers\n",
    "    WHERE city IS NOT NULL\n",
    "    GROUP BY 1\n",
    "    ORDER BY 2 DESC \n",
    "    LIMIT 10\n",
    "\"\"\""
   ]
  },
  {
   "cell_type": "code",
   "execution_count": null,
   "id": "623dcb40",
   "metadata": {},
   "outputs": [],
   "source": [
    "query"
   ]
  },
  {
   "cell_type": "code",
   "execution_count": 15,
   "id": "b93e2108",
   "metadata": {},
   "outputs": [],
   "source": [
    "top_cities_data = pd.read_sql_query(query, engine)"
   ]
  },
  {
   "cell_type": "code",
   "execution_count": 16,
   "id": "83e445db",
   "metadata": {},
   "outputs": [
    {
     "data": {
      "text/html": [
       "<div>\n",
       "<style scoped>\n",
       "    .dataframe tbody tr th:only-of-type {\n",
       "        vertical-align: middle;\n",
       "    }\n",
       "\n",
       "    .dataframe tbody tr th {\n",
       "        vertical-align: top;\n",
       "    }\n",
       "\n",
       "    .dataframe thead th {\n",
       "        text-align: right;\n",
       "    }\n",
       "</style>\n",
       "<table border=\"1\" class=\"dataframe\">\n",
       "  <thead>\n",
       "    <tr style=\"text-align: right;\">\n",
       "      <th></th>\n",
       "      <th>city</th>\n",
       "      <th>number_of_customers</th>\n",
       "      <th>female</th>\n",
       "      <th>male</th>\n",
       "    </tr>\n",
       "  </thead>\n",
       "  <tbody>\n",
       "    <tr>\n",
       "      <th>0</th>\n",
       "      <td>Washington</td>\n",
       "      <td>1447</td>\n",
       "      <td>734</td>\n",
       "      <td>713</td>\n",
       "    </tr>\n",
       "    <tr>\n",
       "      <th>1</th>\n",
       "      <td>Houston</td>\n",
       "      <td>904</td>\n",
       "      <td>446</td>\n",
       "      <td>458</td>\n",
       "    </tr>\n",
       "    <tr>\n",
       "      <th>2</th>\n",
       "      <td>New York City</td>\n",
       "      <td>731</td>\n",
       "      <td>369</td>\n",
       "      <td>362</td>\n",
       "    </tr>\n",
       "    <tr>\n",
       "      <th>3</th>\n",
       "      <td>El Paso</td>\n",
       "      <td>713</td>\n",
       "      <td>369</td>\n",
       "      <td>344</td>\n",
       "    </tr>\n",
       "    <tr>\n",
       "      <th>4</th>\n",
       "      <td>Dallas</td>\n",
       "      <td>607</td>\n",
       "      <td>309</td>\n",
       "      <td>298</td>\n",
       "    </tr>\n",
       "    <tr>\n",
       "      <th>5</th>\n",
       "      <td>Atlanta</td>\n",
       "      <td>571</td>\n",
       "      <td>292</td>\n",
       "      <td>279</td>\n",
       "    </tr>\n",
       "    <tr>\n",
       "      <th>6</th>\n",
       "      <td>Sacramento</td>\n",
       "      <td>506</td>\n",
       "      <td>244</td>\n",
       "      <td>262</td>\n",
       "    </tr>\n",
       "    <tr>\n",
       "      <th>7</th>\n",
       "      <td>Los Angeles</td>\n",
       "      <td>466</td>\n",
       "      <td>241</td>\n",
       "      <td>225</td>\n",
       "    </tr>\n",
       "    <tr>\n",
       "      <th>8</th>\n",
       "      <td>San Antonio</td>\n",
       "      <td>426</td>\n",
       "      <td>207</td>\n",
       "      <td>219</td>\n",
       "    </tr>\n",
       "    <tr>\n",
       "      <th>9</th>\n",
       "      <td>Miami</td>\n",
       "      <td>426</td>\n",
       "      <td>195</td>\n",
       "      <td>231</td>\n",
       "    </tr>\n",
       "  </tbody>\n",
       "</table>\n",
       "</div>"
      ],
      "text/plain": [
       "            city  number_of_customers  female  male\n",
       "0     Washington                 1447     734   713\n",
       "1        Houston                  904     446   458\n",
       "2  New York City                  731     369   362\n",
       "3        El Paso                  713     369   344\n",
       "4         Dallas                  607     309   298\n",
       "5        Atlanta                  571     292   279\n",
       "6     Sacramento                  506     244   262\n",
       "7    Los Angeles                  466     241   225\n",
       "8    San Antonio                  426     207   219\n",
       "9          Miami                  426     195   231"
      ]
     },
     "execution_count": 16,
     "metadata": {},
     "output_type": "execute_result"
    }
   ],
   "source": [
    "top_cities_data"
   ]
  },
  {
   "cell_type": "code",
   "execution_count": null,
   "id": "69f9d7ef",
   "metadata": {},
   "outputs": [],
   "source": [
    "ax = top_cities_data.plot.bar('city', y=['female', 'male'], title='Number of Customers by Gender and City')"
   ]
  },
  {
   "cell_type": "code",
   "execution_count": null,
   "id": "d8be8785",
   "metadata": {},
   "outputs": [],
   "source": []
  }
 ],
 "metadata": {
  "kernelspec": {
   "display_name": "Python 3 (ipykernel)",
   "language": "python",
   "name": "python3"
  },
  "language_info": {
   "codemirror_mode": {
    "name": "ipython",
    "version": 3
   },
   "file_extension": ".py",
   "mimetype": "text/x-python",
   "name": "python",
   "nbconvert_exporter": "python",
   "pygments_lexer": "ipython3",
   "version": "3.9.13"
  }
 },
 "nbformat": 4,
 "nbformat_minor": 5
}
